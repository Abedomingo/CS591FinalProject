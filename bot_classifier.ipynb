{
 "cells": [
  {
   "cell_type": "markdown",
   "metadata": {},
   "source": [
    "## Import all modules"
   ]
  },
  {
   "cell_type": "code",
   "execution_count": 2,
   "metadata": {},
   "outputs": [],
   "source": [
    "import yaml\n",
    "import json\n",
    "import sqlite3\n",
    "from datetime import datetime\n",
    "import pandas as pd\n",
    "import sklearn\n",
    "from json_flatten import flatten\n",
    "from sklearn import tree\n",
    "import numpy as np\n",
    "from sklearn.cluster import KMeans\n"
   ]
  },
  {
   "cell_type": "markdown",
   "metadata": {},
   "source": [
    "## Retrieve all bots from SQL database"
   ]
  },
  {
   "cell_type": "code",
   "execution_count": 4,
   "metadata": {},
   "outputs": [
    {
     "name": "stdout",
     "output_type": "stream",
     "text": [
      "No of user info stored: 101\n",
      "\n"
     ]
    }
   ],
   "source": [
    "conn = sqlite3.connect('goodbot_table.db')\n",
    "cur = conn.cursor()\n",
    "\n",
    "cur.execute(\"SELECT * FROM user_info WHERE bot_rating > 3.5\")\n",
    "\n",
    "#Check how many users in total\n",
    "#cur.execute(\"SELECT * FROM user_info WHERE bot_rating IS NOT NULL\")\n",
    "\n",
    "user_info_all_result = cur.fetchall()\n",
    "user_info_column_names = [description[0] for description in cur.description]\n",
    "user_info_bot_dataframe = pd.DataFrame(user_info_all_result, \\\n",
    "                                   columns=user_info_column_names)\n",
    "print(f\"No of user info stored: {len(user_info_all_result)}\\n\")\n",
    "\n",
    "conn.close()"
   ]
  },
  {
   "cell_type": "markdown",
   "metadata": {},
   "source": [
    "## Load JSON attributes for goodbot into a dataframe"
   ]
  },
  {
   "cell_type": "code",
   "execution_count": 7,
   "metadata": {},
   "outputs": [
    {
     "name": "stdout",
     "output_type": "stream",
     "text": [
      "   user.screen_name          user.id_str user.lang categories.astroturf$float  \\\n",
      "0      TnNguynNgc12  1406983013095776259        vi                       0.14   \n",
      "1   PienaNashetania           4586856613        in                       0.01   \n",
      "2          inthreek           1516297345        en                       0.02   \n",
      "3       ocaesar0310           2515694738        ja                       0.04   \n",
      "4       a_kitsumaru           2158721414        ja                        NaN   \n",
      "5   cephalopodluke2   983177740965773312        en                       0.71   \n",
      "6   ErzaOfFairyTail            838182517        en                       0.22   \n",
      "7   Farozipauundana  1308026872630976512        en                       0.06   \n",
      "8          himeka_s           1065120397        ja                        NaN   \n",
      "9        Long123475  1154918356320788481        vi                       0.01   \n",
      "10   xPirateCoveFox           3243767972        en                       0.05   \n",
      "11      fabricsarts  1187889491949670404        ja                       0.02   \n",
      "12       Aska_Eva02            618872117        ja                       0.12   \n",
      "13   IbaraMayaka_AR           1334120898        en                       0.11   \n",
      "14      P_KO_jintai            602086277        ja                       0.08   \n",
      "15     Swat33662057  1265897937638309891        vi                       0.02   \n",
      "16    Khanh19872677  1222181880251863041        vi                       0.03   \n",
      "17       Ho50290170  1416693810210349056       und                       0.05   \n",
      "18  Mahmudu21176197  1452576377937403912        en                       0.18   \n",
      "\n",
      "   categories.fake_follower$float categories.financial$float  \\\n",
      "0                            0.92                       0.34   \n",
      "1                            0.45                   0.125125   \n",
      "2                            0.68                       0.16   \n",
      "3                            0.04                        NaN   \n",
      "4                            0.61                       0.07   \n",
      "5                             0.7                       0.54   \n",
      "6                            0.76                       0.13   \n",
      "7                            0.56                       0.15   \n",
      "8                            0.45                       0.01   \n",
      "9                            0.75                       0.36   \n",
      "10                           0.59                       0.16   \n",
      "11                           0.26                       0.03   \n",
      "12                           0.54                       0.06   \n",
      "13                           0.77                       0.35   \n",
      "14                           0.28                       0.06   \n",
      "15                           0.94                       0.51   \n",
      "16                           0.82                       0.38   \n",
      "17                           0.98                       0.32   \n",
      "18                           0.51                       0.08   \n",
      "\n",
      "   categories.other$float categories.overall$float  \\\n",
      "0                    0.74                     0.92   \n",
      "1                     NaN                      NaN   \n",
      "2                    0.75                     0.83   \n",
      "3                    0.12                     0.02   \n",
      "4                    0.91                     0.97   \n",
      "5                     0.8                      0.8   \n",
      "6                     0.8                      0.8   \n",
      "7                    0.46                     0.56   \n",
      "8                    0.96                     0.96   \n",
      "9                    0.92                     0.92   \n",
      "10                   0.92                     0.92   \n",
      "11                   0.93                     0.93   \n",
      "12                   0.95                     0.95   \n",
      "13                   0.85                     0.85   \n",
      "14                   0.99                     0.99   \n",
      "15                   0.83                     0.94   \n",
      "16                   0.84                     0.84   \n",
      "17                    0.9                     0.98   \n",
      "18                   0.72                     0.72   \n",
      "\n",
      "   categories.self_declared$float categories.spammer$float  ...  \\\n",
      "0                            0.13                     0.21  ...   \n",
      "1                            0.99                     0.49  ...   \n",
      "2                            0.83                     0.51  ...   \n",
      "3                             NaN                     0.03  ...   \n",
      "4                            0.97                      0.7  ...   \n",
      "5                             0.3                     0.19  ...   \n",
      "6                            0.71                     0.57  ...   \n",
      "7                            0.07                     0.32  ...   \n",
      "8                             0.9                     0.72  ...   \n",
      "9                            0.28                     0.23  ...   \n",
      "10                           0.91                     0.65  ...   \n",
      "11                           0.92                     0.81  ...   \n",
      "12                           0.89                     0.52  ...   \n",
      "13                           0.82                     0.68  ...   \n",
      "14                           0.96                     0.77  ...   \n",
      "15                           0.07                     0.22  ...   \n",
      "16                           0.17                      0.3  ...   \n",
      "17                           0.24                     0.37  ...   \n",
      "18                           0.08                     0.34  ...   \n",
      "\n",
      "   cap.universal$int scores.universal.astroturf$int categories.financial$int  \\\n",
      "0                NaN                            NaN                      NaN   \n",
      "1                  1                            NaN                      NaN   \n",
      "2                NaN                              0                      NaN   \n",
      "3                NaN                            NaN                        0   \n",
      "4                NaN                              0                      NaN   \n",
      "5                NaN                            NaN                      NaN   \n",
      "6                NaN                            NaN                      NaN   \n",
      "7                NaN                            NaN                      NaN   \n",
      "8                NaN                              0                      NaN   \n",
      "9                NaN                            NaN                      NaN   \n",
      "10               NaN                              0                      NaN   \n",
      "11               NaN                            NaN                      NaN   \n",
      "12               NaN                            NaN                      NaN   \n",
      "13                 1                              0                      NaN   \n",
      "14               NaN                            NaN                      NaN   \n",
      "15               NaN                            NaN                      NaN   \n",
      "16               NaN                            NaN                      NaN   \n",
      "17               NaN                            NaN                      NaN   \n",
      "18               NaN                            NaN                      NaN   \n",
      "\n",
      "   categories.self_declared$int scores.universal.financial$int  \\\n",
      "0                           NaN                            NaN   \n",
      "1                           NaN                            NaN   \n",
      "2                           NaN                            NaN   \n",
      "3                             0                              0   \n",
      "4                           NaN                            NaN   \n",
      "5                           NaN                            NaN   \n",
      "6                           NaN                            NaN   \n",
      "7                           NaN                            NaN   \n",
      "8                           NaN                            NaN   \n",
      "9                           NaN                            NaN   \n",
      "10                          NaN                              0   \n",
      "11                          NaN                            NaN   \n",
      "12                          NaN                            NaN   \n",
      "13                          NaN                            NaN   \n",
      "14                          NaN                            NaN   \n",
      "15                          NaN                            NaN   \n",
      "16                          NaN                            NaN   \n",
      "17                          NaN                            NaN   \n",
      "18                          NaN                            NaN   \n",
      "\n",
      "   scores.universal.self_declared$int categories.astroturf$int  \\\n",
      "0                                 NaN                      NaN   \n",
      "1                                 NaN                      NaN   \n",
      "2                                 NaN                      NaN   \n",
      "3                                   0                      NaN   \n",
      "4                                 NaN                        0   \n",
      "5                                 NaN                      NaN   \n",
      "6                                 NaN                      NaN   \n",
      "7                                 NaN                      NaN   \n",
      "8                                 NaN                        0   \n",
      "9                                 NaN                      NaN   \n",
      "10                                NaN                      NaN   \n",
      "11                                NaN                      NaN   \n",
      "12                                NaN                      NaN   \n",
      "13                                NaN                      NaN   \n",
      "14                                NaN                      NaN   \n",
      "15                                NaN                      NaN   \n",
      "16                                NaN                      NaN   \n",
      "17                                NaN                      NaN   \n",
      "18                                NaN                      NaN   \n",
      "\n",
      "   scores.english.other$int scores.english.overall$int cap.english$int  \n",
      "0                       NaN                        NaN             NaN  \n",
      "1                       NaN                        NaN             NaN  \n",
      "2                       NaN                        NaN             NaN  \n",
      "3                       NaN                        NaN             NaN  \n",
      "4                       NaN                        NaN             NaN  \n",
      "5                       NaN                        NaN             NaN  \n",
      "6                       NaN                        NaN             NaN  \n",
      "7                       NaN                        NaN             NaN  \n",
      "8                         1                          1               1  \n",
      "9                       NaN                        NaN             NaN  \n",
      "10                      NaN                        NaN             NaN  \n",
      "11                      NaN                        NaN             NaN  \n",
      "12                      NaN                        NaN             NaN  \n",
      "13                      NaN                        NaN             NaN  \n",
      "14                      NaN                        NaN             NaN  \n",
      "15                      NaN                        NaN             NaN  \n",
      "16                      NaN                        NaN             NaN  \n",
      "17                      NaN                        NaN             NaN  \n",
      "18                      NaN                        NaN             NaN  \n",
      "\n",
      "[19 rows x 50 columns]\n"
     ]
    }
   ],
   "source": [
    "f = open('./GoodBot_parameters/Bot_001_019.json')\n",
    "\n",
    "\n",
    "arr = json.load(f)\n",
    "\n",
    "flattened_arr = []\n",
    "\n",
    "for elem in arr['result']:\n",
    "    flattened_arr.append(flatten(elem))\n",
    "    \n",
    "df = pd.DataFrame(flattened_arr)\n",
    "\n",
    "print(df)\n",
    "\n",
    "f.close()"
   ]
  },
  {
   "cell_type": "markdown",
   "metadata": {},
   "source": [
    "## Setup Classifier"
   ]
  },
  {
   "cell_type": "code",
   "execution_count": 12,
   "metadata": {},
   "outputs": [
    {
     "data": {
      "text/plain": [
       "MeanShift(bandwidth=2)"
      ]
     },
     "execution_count": 12,
     "metadata": {},
     "output_type": "execute_result"
    }
   ],
   "source": [
    "from sklearn.cluster import MeanShift\n",
    "import numpy as np\n",
    "X = np.array([[1, 1], [2, 1], [1, 0],\n",
    "              [4, 7], [3, 5], [3, 6]])\n",
    "clustering = MeanShift(bandwidth=2).fit(X)\n",
    "clustering.labels_\n",
    "clustering.predict([[0, 0], [5, 5]])\n",
    "clustering\n",
    "MeanShift(bandwidth=2)\n"
   ]
  },
  {
   "cell_type": "code",
   "execution_count": null,
   "metadata": {},
   "outputs": [],
   "source": []
  }
 ],
 "metadata": {
  "kernelspec": {
   "display_name": "Python 3 (ipykernel)",
   "language": "python",
   "name": "python3"
  },
  "language_info": {
   "codemirror_mode": {
    "name": "ipython",
    "version": 3
   },
   "file_extension": ".py",
   "mimetype": "text/x-python",
   "name": "python",
   "nbconvert_exporter": "python",
   "pygments_lexer": "ipython3",
   "version": "3.8.12"
  }
 },
 "nbformat": 4,
 "nbformat_minor": 2
}
