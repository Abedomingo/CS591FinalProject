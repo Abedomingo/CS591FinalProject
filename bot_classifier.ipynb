{
 "cells": [
  {
   "cell_type": "markdown",
   "metadata": {},
   "source": [
    "## Import all modules"
   ]
  },
  {
   "cell_type": "code",
   "execution_count": 2,
   "metadata": {},
   "outputs": [],
   "source": [
    "import yaml\n",
    "import json\n",
    "import sqlite3\n",
    "from datetime import datetime\n",
    "import pandas as pd\n",
    "import sklearn\n",
    "from json_flatten import flatten\n",
    "from sklearn import tree\n",
    "import numpy as np\n",
    "from sklearn.cluster import KMeans\n"
   ]
  },
  {
   "cell_type": "markdown",
   "metadata": {},
   "source": [
    "## Retrieve all bots from SQL database"
   ]
  },
  {
   "cell_type": "code",
   "execution_count": 3,
   "metadata": {},
   "outputs": [
    {
     "name": "stdout",
     "output_type": "stream",
     "text": [
      "No of user info stored: 101\n",
      "\n"
     ]
    }
   ],
   "source": [
    "conn = sqlite3.connect('goodbot_table.db')\n",
    "cur = conn.cursor()\n",
    "\n",
    "cur.execute(\"SELECT * FROM user_info WHERE bot_rating > 3.5\")\n",
    "\n",
    "#Check how many users in total\n",
    "#cur.execute(\"SELECT * FROM user_info WHERE bot_rating IS NOT NULL\")\n",
    "\n",
    "user_info_all_result = cur.fetchall()\n",
    "user_info_column_names = [description[0] for description in cur.description]\n",
    "user_info_bot_dataframe = pd.DataFrame(user_info_all_result, \\\n",
    "                                   columns=user_info_column_names)\n",
    "print(f\"No of user info stored: {len(user_info_all_result)}\\n\")\n",
    "\n",
    "conn.close()"
   ]
  },
  {
   "cell_type": "markdown",
   "metadata": {},
   "source": [
    "## Load JSON attributes for goodbot into a dataframe"
   ]
  },
  {
   "cell_type": "code",
   "execution_count": 44,
   "metadata": {},
   "outputs": [
    {
     "ename": "FileNotFoundError",
     "evalue": "[Errno 2] No such file or directory: './TBT_parameters/Bot_001_050.json'",
     "output_type": "error",
     "traceback": [
      "\u001b[0;31m---------------------------------------------------------------------------\u001b[0m",
      "\u001b[0;31mFileNotFoundError\u001b[0m                         Traceback (most recent call last)",
      "\u001b[0;32m/var/folders/pl/q4pfj44n2v76707q_kncglhmtfwkst/T/ipykernel_1339/3937306708.py\u001b[0m in \u001b[0;36m<module>\u001b[0;34m\u001b[0m\n\u001b[1;32m     22\u001b[0m \u001b[0;32mfor\u001b[0m \u001b[0mfile\u001b[0m \u001b[0;32min\u001b[0m \u001b[0mfiles\u001b[0m\u001b[0;34m:\u001b[0m\u001b[0;34m\u001b[0m\u001b[0;34m\u001b[0m\u001b[0m\n\u001b[1;32m     23\u001b[0m \u001b[0;34m\u001b[0m\u001b[0m\n\u001b[0;32m---> 24\u001b[0;31m     \u001b[0mf\u001b[0m \u001b[0;34m=\u001b[0m \u001b[0mopen\u001b[0m\u001b[0;34m(\u001b[0m\u001b[0mfile\u001b[0m\u001b[0;34m)\u001b[0m\u001b[0;34m\u001b[0m\u001b[0;34m\u001b[0m\u001b[0m\n\u001b[0m\u001b[1;32m     25\u001b[0m     \u001b[0mlabel\u001b[0m \u001b[0;34m=\u001b[0m \u001b[0;34m\"#bot\"\u001b[0m\u001b[0;34m\u001b[0m\u001b[0;34m\u001b[0m\u001b[0m\n\u001b[1;32m     26\u001b[0m \u001b[0;34m\u001b[0m\u001b[0m\n",
      "\u001b[0;31mFileNotFoundError\u001b[0m: [Errno 2] No such file or directory: './TBT_parameters/Bot_001_050.json'"
     ]
    }
   ],
   "source": [
    "clean_arr = []\n",
    "\n",
    "files = ['./GoodBot_parameters/Bot_001_019.json',\n",
    "         './GoodBot_parameters/Bot_020_059.json',\n",
    "         './GoodBot_parameters/Bot_060_088.json',\n",
    "         './GoodBot_parameters/Bot_088_132.json',\n",
    "         './TBT_parameters/TBT_001_050.json',\n",
    "         './TBT_parameters/TBT_050_100.json',\n",
    "         './TBT_parameters/TBT_101_150.json',\n",
    "         './TBT_parameters/TBT_151_200.json',\n",
    "         './TBT_parameters/TBT_201_250.json',\n",
    "         './TBT_parameters/Bot_251_300.json',\n",
    "         './TBT_parameters/Bot_301_350.json',\n",
    "         './TBT_parameters/Bot_351_400.json',\n",
    "         './TBT_parameters/Bot_401_450.json',\n",
    "         './TBT_parameters/Bot_451_500.json',\n",
    "         './TBT_parameters/Bot_501_550.json',\n",
    "         './TBT_parameters/Bot_551_600.json',\n",
    "         './TBT_parameters/Bot_601_050.json',\n",
    "        ]\n",
    "\n",
    "for file in files:\n",
    "\n",
    "    f = open(file)\n",
    "    label = \"#bot\"\n",
    "\n",
    "    arr = json.load(f)\n",
    "\n",
    "    for elem in arr['result']:\n",
    "\n",
    "        #print(elem)\n",
    "        if elem['score'] > 0.7:\n",
    "            clean_elem = {}\n",
    "\n",
    "            clean_elem['user_screen_name'] = elem['user']['screen_name']\n",
    "            clean_elem['lang'] = elem['user']['lang']\n",
    "            clean_elem['hashtag'] = label\n",
    "            clean_elem['user_id'] = elem['user']['id_str']\n",
    "            clean_elem['score'] = elem['score']\n",
    "            clean_elem['astroturf'] = elem['categories']['astroturf']\n",
    "            clean_elem['fake_follower'] = elem['categories']['fake_follower']\n",
    "            clean_elem['financial'] = elem['categories']['financial']\n",
    "            clean_elem['other'] = elem['categories']['other']\n",
    "            clean_elem['overall'] = elem['categories']['overall']\n",
    "            clean_elem['self_declared'] = elem['categories']['self_declared']\n",
    "            clean_elem['spammer'] = elem['categories']['spammer']\n",
    "            #clean_elem['recent_tweets_per_week'] = elem['analysis']['recentTweetsPerWeek'] #Normalize\n",
    "            #clean_elem['number_of_tweets'] = elem['analysis']['numberOfTweets'] #Normalize\n",
    "            #clean_elem['following'] = elem['analysis']['numberOfFollowees'] #Normalize\n",
    "            #clean_elem['followers'] = elem['analysis']['numberOfFollowers'] #Normalize\n",
    "            #clean_elem['numberOfLikes'] = elem['analysis']['numberOfLikes'] #Normalize\n",
    "\n",
    "            clean_arr.append(clean_elem)\n",
    "\n",
    "    f.close()\n",
    "\n",
    "df = pd.DataFrame(clean_arr)\n",
    "\n",
    "df.to_csv('testdata.csv',index=False)\n",
    "\n",
    "print(df)"
   ]
  },
  {
   "cell_type": "code",
   "execution_count": null,
   "metadata": {},
   "outputs": [],
   "source": []
  },
  {
   "cell_type": "code",
   "execution_count": null,
   "metadata": {},
   "outputs": [],
   "source": []
  }
 ],
 "metadata": {
  "kernelspec": {
   "display_name": "Python 3 (ipykernel)",
   "language": "python",
   "name": "python3"
  },
  "language_info": {
   "codemirror_mode": {
    "name": "ipython",
    "version": 3
   },
   "file_extension": ".py",
   "mimetype": "text/x-python",
   "name": "python",
   "nbconvert_exporter": "python",
   "pygments_lexer": "ipython3",
   "version": "3.8.12"
  }
 },
 "nbformat": 4,
 "nbformat_minor": 2
}
