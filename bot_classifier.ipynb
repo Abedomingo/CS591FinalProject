{
 "cells": [
  {
   "cell_type": "markdown",
   "metadata": {},
   "source": [
    "## Import all modules"
   ]
  },
  {
   "cell_type": "code",
   "execution_count": 2,
   "metadata": {},
   "outputs": [],
   "source": [
    "import yaml\n",
    "import json\n",
    "import sqlite3\n",
    "from datetime import datetime\n",
    "import pandas as pd\n",
    "import sklearn\n",
    "from json_flatten import flatten\n",
    "from sklearn import tree\n",
    "import numpy as np\n",
    "from sklearn.cluster import KMeans\n"
   ]
  },
  {
   "cell_type": "markdown",
   "metadata": {},
   "source": [
    "## Retrieve all bots from SQL database"
   ]
  },
  {
   "cell_type": "code",
   "execution_count": 3,
   "metadata": {},
   "outputs": [
    {
     "name": "stdout",
     "output_type": "stream",
     "text": [
      "No of user info stored: 101\n",
      "\n"
     ]
    }
   ],
   "source": [
    "conn = sqlite3.connect('goodbot_table.db')\n",
    "cur = conn.cursor()\n",
    "\n",
    "cur.execute(\"SELECT * FROM user_info WHERE bot_rating > 3.5\")\n",
    "\n",
    "#Check how many users in total\n",
    "#cur.execute(\"SELECT * FROM user_info WHERE bot_rating IS NOT NULL\")\n",
    "\n",
    "user_info_all_result = cur.fetchall()\n",
    "user_info_column_names = [description[0] for description in cur.description]\n",
    "user_info_bot_dataframe = pd.DataFrame(user_info_all_result, \\\n",
    "                                   columns=user_info_column_names)\n",
    "print(f\"No of user info stored: {len(user_info_all_result)}\\n\")\n",
    "\n",
    "conn.close()"
   ]
  },
  {
   "cell_type": "markdown",
   "metadata": {},
   "source": [
    "## Load JSON attributes for goodbot into a dataframe"
   ]
  },
  {
   "cell_type": "code",
   "execution_count": 48,
   "metadata": {},
   "outputs": [
    {
     "name": "stdout",
     "output_type": "stream",
     "text": [
      "    user_screen_name lang hashtag              user_id  score  astroturf  \\\n",
      "0       TnNguynNgc12   vi    #bot  1406983013095776259   0.92       0.14   \n",
      "1    PienaNashetania   in    #bot           4586856613   1.00       0.01   \n",
      "2           inthreek   en    #bot           1516297345   0.83       0.02   \n",
      "3        a_kitsumaru   ja    #bot           2158721414   0.97       0.00   \n",
      "4    cephalopodluke2   en    #bot   983177740965773312   0.80       0.71   \n",
      "..               ...  ...     ...                  ...    ...        ...   \n",
      "201      chelsiwonda   en    #tbt            414806837   0.83       0.41   \n",
      "202  ThelmaBartlet14   en    #tbt  1454861618572140548   0.81       0.29   \n",
      "203  windychicago123   en    #tbt  1264280222532341761   0.94       0.27   \n",
      "204         atlxpomx   en    #tbt  1422584353159323649   0.76       0.07   \n",
      "205        BBiitchhh  und    #tbt  1105688148464459777   0.97       0.10   \n",
      "\n",
      "     fake_follower  financial  other  overall  self_declared  spammer  \n",
      "0             0.92   0.340000   0.74     0.92           0.13     0.21  \n",
      "1             0.45   0.125125   1.00     1.00           0.99     0.49  \n",
      "2             0.68   0.160000   0.75     0.83           0.83     0.51  \n",
      "3             0.61   0.070000   0.91     0.97           0.97     0.70  \n",
      "4             0.70   0.540000   0.80     0.80           0.30     0.19  \n",
      "..             ...        ...    ...      ...            ...      ...  \n",
      "201           0.46   0.340000   0.83     0.83           0.01     0.00  \n",
      "202           0.54   0.440000   0.81     0.81           0.02     0.12  \n",
      "203           0.60   0.270000   0.94     0.94           0.10     0.07  \n",
      "204           0.76   0.420000   0.72     0.76           0.05     0.12  \n",
      "205           0.78   0.290000   0.97     0.97           0.14     0.11  \n",
      "\n",
      "[206 rows x 12 columns]\n"
     ]
    }
   ],
   "source": [
    "clean_arr = []\n",
    "\n",
    "files = ['./GoodBot_parameters/Bot_001_019.json',\n",
    "         './GoodBot_parameters/Bot_020_059.json',\n",
    "         './GoodBot_parameters/Bot_060_088.json',\n",
    "         './GoodBot_parameters/Bot_088_132.json',\n",
    "         './TBT_parameters/TBT_001_050.json',\n",
    "         './TBT_parameters/TBT_051_100.json',\n",
    "         './TBT_parameters/TBT_101_150.json',\n",
    "         './TBT_parameters/TBT_151_200.json',\n",
    "         './TBT_parameters/TBT_201_250.json',\n",
    "         './TBT_parameters/TBT_251_300.json',\n",
    "         './TBT_parameters/TBT_301_350.json',\n",
    "         './TBT_parameters/TBT_351_400.json',\n",
    "         './TBT_parameters/TBT_401_450.json',\n",
    "         './TBT_parameters/TBT_451_500.json',\n",
    "         './TBT_parameters/TBT_501_550.json',\n",
    "         './TBT_parameters/TBT_551_600.json',\n",
    "         './TBT_parameters/TBT_601_650.json',\n",
    "        ]\n",
    "\n",
    "bot_files = ['./GoodBot_parameters/Bot_001_019.json',\n",
    "         './GoodBot_parameters/Bot_020_059.json',\n",
    "         './GoodBot_parameters/Bot_060_088.json',\n",
    "         './GoodBot_parameters/Bot_088_132.json']\n",
    "\n",
    "tbt_files = ['./TBT_parameters/TBT_001_050.json',\n",
    "         './TBT_parameters/TBT_051_100.json',\n",
    "         './TBT_parameters/TBT_101_150.json',\n",
    "         './TBT_parameters/TBT_151_200.json',\n",
    "         './TBT_parameters/TBT_201_250.json',\n",
    "         './TBT_parameters/TBT_251_300.json',\n",
    "         './TBT_parameters/TBT_301_350.json',\n",
    "         './TBT_parameters/TBT_351_400.json',\n",
    "         './TBT_parameters/TBT_401_450.json',\n",
    "         './TBT_parameters/TBT_451_500.json',\n",
    "         './TBT_parameters/TBT_501_550.json',\n",
    "         './TBT_parameters/TBT_551_600.json',\n",
    "         './TBT_parameters/TBT_601_650.json',\n",
    "        ]\n",
    "\n",
    "for file in files:\n",
    "\n",
    "    f = open(file)\n",
    "    if file in bot_files:\n",
    "        label = \"#bot\"\n",
    "    if file in tbt_files:\n",
    "        label = \"#tbt\"\n",
    "\n",
    "    arr = json.load(f)\n",
    "\n",
    "    for elem in arr['result']:\n",
    "\n",
    "        #print(elem)\n",
    "        if elem['score'] > 0.7:\n",
    "            clean_elem = {}\n",
    "\n",
    "            clean_elem['user_screen_name'] = elem['user']['screen_name']\n",
    "            clean_elem['lang'] = elem['user']['lang']\n",
    "            clean_elem['hashtag'] = label\n",
    "            clean_elem['user_id'] = elem['user']['id_str']\n",
    "            clean_elem['score'] = elem['score']\n",
    "            clean_elem['astroturf'] = elem['categories']['astroturf']\n",
    "            clean_elem['fake_follower'] = elem['categories']['fake_follower']\n",
    "            clean_elem['financial'] = elem['categories']['financial']\n",
    "            clean_elem['other'] = elem['categories']['other']\n",
    "            clean_elem['overall'] = elem['categories']['overall']\n",
    "            clean_elem['self_declared'] = elem['categories']['self_declared']\n",
    "            clean_elem['spammer'] = elem['categories']['spammer']\n",
    "            #clean_elem['recent_tweets_per_week'] = elem['analysis']['recentTweetsPerWeek'] #Normalize\n",
    "            #clean_elem['number_of_tweets'] = elem['analysis']['numberOfTweets'] #Normalize\n",
    "            #clean_elem['following'] = elem['analysis']['numberOfFollowees'] #Normalize\n",
    "            #clean_elem['followers'] = elem['analysis']['numberOfFollowers'] #Normalize\n",
    "            #clean_elem['numberOfLikes'] = elem['analysis']['numberOfLikes'] #Normalize\n",
    "\n",
    "            clean_arr.append(clean_elem)\n",
    "\n",
    "    f.close()\n",
    "\n",
    "df = pd.DataFrame(clean_arr)\n",
    "\n",
    "df.to_csv('testdata.csv',index=False)\n",
    "\n",
    "print(df)"
   ]
  },
  {
   "cell_type": "code",
   "execution_count": null,
   "metadata": {},
   "outputs": [],
   "source": []
  },
  {
   "cell_type": "code",
   "execution_count": null,
   "metadata": {},
   "outputs": [],
   "source": []
  }
 ],
 "metadata": {
  "kernelspec": {
   "display_name": "Python 3 (ipykernel)",
   "language": "python",
   "name": "python3"
  },
  "language_info": {
   "codemirror_mode": {
    "name": "ipython",
    "version": 3
   },
   "file_extension": ".py",
   "mimetype": "text/x-python",
   "name": "python",
   "nbconvert_exporter": "python",
   "pygments_lexer": "ipython3",
   "version": "3.8.12"
  }
 },
 "nbformat": 4,
 "nbformat_minor": 2
}
