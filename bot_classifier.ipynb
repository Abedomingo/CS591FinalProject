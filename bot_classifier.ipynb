{
 "cells": [
  {
   "cell_type": "markdown",
   "metadata": {},
   "source": [
    "## Import all modules"
   ]
  },
  {
   "cell_type": "code",
   "execution_count": 2,
   "metadata": {},
   "outputs": [],
   "source": [
    "import yaml\n",
    "import json\n",
    "import sqlite3\n",
    "from datetime import datetime\n",
    "import pandas as pd\n",
    "import sklearn\n",
    "from json_flatten import flatten\n",
    "from sklearn import tree\n",
    "import numpy as np\n",
    "from sklearn.cluster import KMeans\n"
   ]
  },
  {
   "cell_type": "markdown",
   "metadata": {},
   "source": [
    "## Retrieve all bots from SQL database"
   ]
  },
  {
   "cell_type": "code",
   "execution_count": 3,
   "metadata": {},
   "outputs": [
    {
     "name": "stdout",
     "output_type": "stream",
     "text": [
      "No of user info stored: 101\n",
      "\n"
     ]
    }
   ],
   "source": [
    "conn = sqlite3.connect('goodbot_table.db')\n",
    "cur = conn.cursor()\n",
    "\n",
    "cur.execute(\"SELECT * FROM user_info WHERE bot_rating > 3.5\")\n",
    "\n",
    "#Check how many users in total\n",
    "#cur.execute(\"SELECT * FROM user_info WHERE bot_rating IS NOT NULL\")\n",
    "\n",
    "user_info_all_result = cur.fetchall()\n",
    "user_info_column_names = [description[0] for description in cur.description]\n",
    "user_info_bot_dataframe = pd.DataFrame(user_info_all_result, \\\n",
    "                                   columns=user_info_column_names)\n",
    "print(f\"No of user info stored: {len(user_info_all_result)}\\n\")\n",
    "\n",
    "conn.close()"
   ]
  },
  {
   "cell_type": "markdown",
   "metadata": {},
   "source": [
    "## Load JSON attributes for goodbot into a dataframe"
   ]
  },
  {
   "cell_type": "code",
   "execution_count": 55,
   "metadata": {},
   "outputs": [
    {
     "name": "stdout",
     "output_type": "stream",
     "text": [
      "{'user': {'screen_name': 'TnNguynNgc12', 'id_str': '1406983013095776259', 'lang': 'vi'}, 'categories': {'astroturf': 0.14, 'fake_follower': 0.92, 'financial': 0.34, 'other': 0.74, 'overall': 0.92, 'self_declared': 0.13, 'spammer': 0.21}, 'score': 0.92, 'scores': {'english': {'astroturf': 0.22, 'fake_follower': 0.89, 'financial': 0.35, 'other': 0.87, 'overall': 0.89, 'self_declared': 0.02, 'spammer': 0.17}, 'universal': {'astroturf': 0.14, 'fake_follower': 0.92, 'financial': 0.34, 'other': 0.74, 'overall': 0.92, 'self_declared': 0.13, 'spammer': 0.21}}, 'capScore': 0.8808312676897403, 'cap': {'english': 0.8595061719862279, 'universal': 0.8808312676897403}, 'analysis': {'timeOfMostRecentPost': 'Fri Dec 10 21:01:59 +0000 2021', 'recentTweetsPerWeek': '560', 'numberOfTweets': 15081, 'numberOfFollowees': 3282, 'numberOfFollowers': 64, 'numberOfLikes': 148}}\n"
     ]
    },
    {
     "ename": "KeyError",
     "evalue": "'timeOfMostRecenPost'",
     "output_type": "error",
     "traceback": [
      "\u001b[0;31m---------------------------------------------------------------------------\u001b[0m",
      "\u001b[0;31mKeyError\u001b[0m                                  Traceback (most recent call last)",
      "\u001b[0;32m/var/folders/pl/q4pfj44n2v76707q_kncglhmtfwkst/T/ipykernel_1339/4147151943.py\u001b[0m in \u001b[0;36m<module>\u001b[0;34m\u001b[0m\n\u001b[1;32m    128\u001b[0m             \u001b[0mclean_elem\u001b[0m\u001b[0;34m[\u001b[0m\u001b[0;34m'self_declared'\u001b[0m\u001b[0;34m]\u001b[0m \u001b[0;34m=\u001b[0m \u001b[0melem\u001b[0m\u001b[0;34m[\u001b[0m\u001b[0;34m'categories'\u001b[0m\u001b[0;34m]\u001b[0m\u001b[0;34m[\u001b[0m\u001b[0;34m'self_declared'\u001b[0m\u001b[0;34m]\u001b[0m\u001b[0;34m\u001b[0m\u001b[0;34m\u001b[0m\u001b[0m\n\u001b[1;32m    129\u001b[0m             \u001b[0mclean_elem\u001b[0m\u001b[0;34m[\u001b[0m\u001b[0;34m'spammer'\u001b[0m\u001b[0;34m]\u001b[0m \u001b[0;34m=\u001b[0m \u001b[0melem\u001b[0m\u001b[0;34m[\u001b[0m\u001b[0;34m'categories'\u001b[0m\u001b[0;34m]\u001b[0m\u001b[0;34m[\u001b[0m\u001b[0;34m'spammer'\u001b[0m\u001b[0;34m]\u001b[0m\u001b[0;34m\u001b[0m\u001b[0;34m\u001b[0m\u001b[0m\n\u001b[0;32m--> 130\u001b[0;31m             \u001b[0mclean_elem\u001b[0m\u001b[0;34m[\u001b[0m\u001b[0;34m'most_recent_post_time'\u001b[0m\u001b[0;34m]\u001b[0m \u001b[0;34m=\u001b[0m \u001b[0melem\u001b[0m\u001b[0;34m[\u001b[0m\u001b[0;34m'analysis'\u001b[0m\u001b[0;34m]\u001b[0m\u001b[0;34m[\u001b[0m\u001b[0;34m'timeOfMostRecenPost'\u001b[0m\u001b[0;34m]\u001b[0m \u001b[0;31m#Normalize\u001b[0m\u001b[0;34m\u001b[0m\u001b[0;34m\u001b[0m\u001b[0m\n\u001b[0m\u001b[1;32m    131\u001b[0m             \u001b[0mclean_elem\u001b[0m\u001b[0;34m[\u001b[0m\u001b[0;34m'recent_tweets_per_week'\u001b[0m\u001b[0;34m]\u001b[0m \u001b[0;34m=\u001b[0m \u001b[0melem\u001b[0m\u001b[0;34m[\u001b[0m\u001b[0;34m'analysis'\u001b[0m\u001b[0;34m]\u001b[0m\u001b[0;34m[\u001b[0m\u001b[0;34m'recentTweetsPerWeek'\u001b[0m\u001b[0;34m]\u001b[0m \u001b[0;31m#Normalize\u001b[0m\u001b[0;34m\u001b[0m\u001b[0;34m\u001b[0m\u001b[0m\n\u001b[1;32m    132\u001b[0m             \u001b[0mclean_elem\u001b[0m\u001b[0;34m[\u001b[0m\u001b[0;34m'number_of_tweets'\u001b[0m\u001b[0;34m]\u001b[0m \u001b[0;34m=\u001b[0m \u001b[0melem\u001b[0m\u001b[0;34m[\u001b[0m\u001b[0;34m'analysis'\u001b[0m\u001b[0;34m]\u001b[0m\u001b[0;34m[\u001b[0m\u001b[0;34m'numberOfTweets'\u001b[0m\u001b[0;34m]\u001b[0m \u001b[0;31m#Normalize\u001b[0m\u001b[0;34m\u001b[0m\u001b[0;34m\u001b[0m\u001b[0m\n",
      "\u001b[0;31mKeyError\u001b[0m: 'timeOfMostRecenPost'"
     ]
    }
   ],
   "source": [
    "clean_arr = []\n",
    "\n",
    "files = ['./GoodBot_parameters/Bot_001_019.json',\n",
    "         './GoodBot_parameters/Bot_020_059.json',\n",
    "         './GoodBot_parameters/Bot_060_088.json',\n",
    "         './GoodBot_parameters/Bot_088_132.json',\n",
    "         './TBT_parameters/TBT_001_050.json',\n",
    "         './TBT_parameters/TBT_051_100.json',\n",
    "         './TBT_parameters/TBT_101_150.json',\n",
    "         './TBT_parameters/TBT_151_200.json',\n",
    "         './TBT_parameters/TBT_201_250.json',\n",
    "         './TBT_parameters/TBT_251_300.json',\n",
    "         './TBT_parameters/TBT_301_350.json',\n",
    "         './TBT_parameters/TBT_351_400.json',\n",
    "         './TBT_parameters/TBT_401_450.json',\n",
    "         './TBT_parameters/TBT_451_500.json',\n",
    "         './TBT_parameters/TBT_501_550.json',\n",
    "         './TBT_parameters/TBT_551_600.json',\n",
    "         './TBT_parameters/TBT_601_650.json',\n",
    "         './BTC_parameters/botometer_cohort_1.json',\n",
    "         './BTC_parameters/botometer_cohort_2.json',\n",
    "         './BTC_parameters/botometer_cohort_3.json',\n",
    "         './BTC_parameters/botometer_cohort_4.json',\n",
    "         './BTC_parameters/botometer_cohort_5.json',\n",
    "         './BTC_parameters/botometer_cohort_6.json',\n",
    "         './BTC_parameters/botometer_cohort_7.json',\n",
    "         './BTC_parameters/botometer_cohort_8.json',\n",
    "         './BTS_parameters/botometer_cohort_1.json',\n",
    "         './BTS_parameters/botometer_cohort_2.json',\n",
    "         './BTS_parameters/botometer_cohort_3.json',\n",
    "         './BTS_parameters/botometer_cohort_4.json',\n",
    "         './BTS_parameters/botometer_cohort_5.json',\n",
    "         './BTS_parameters/botometer_cohort_6.json',\n",
    "         './BTS_parameters/botometer_cohort_7.json',\n",
    "         './BTS_parameters/botometer_cohort_8.json',\n",
    "         './BTS_parameters/botometer_cohort_9.json',\n",
    "         './BTS_parameters/botometer_cohort_10.json',\n",
    "         './BTS_parameters/botometer_cohort_11.json',\n",
    "         './BTS_parameters/botometer_cohort_12.json',\n",
    "         './BTS_parameters/botometer_cohort_13.json',\n",
    "         './BTS_parameters/botometer_cohort_14.json',\n",
    "         './BTS_parameters/botometer_cohort_15.json',\n",
    "         './BTS_parameters/botometer_cohort_16.json',\n",
    "         './BTS_parameters/botometer_cohort_17.json',\n",
    "         './BTS_parameters/botometer_cohort_18.json',\n",
    "         './BTS_parameters/botometer_cohort_19.json'\n",
    "        ]\n",
    "\n",
    "bot_files = ['./GoodBot_parameters/Bot_001_019.json',\n",
    "         './GoodBot_parameters/Bot_020_059.json',\n",
    "         './GoodBot_parameters/Bot_060_088.json',\n",
    "         './GoodBot_parameters/Bot_088_132.json']\n",
    "\n",
    "tbt_files = ['./TBT_parameters/TBT_001_050.json',\n",
    "         './TBT_parameters/TBT_051_100.json',\n",
    "         './TBT_parameters/TBT_101_150.json',\n",
    "         './TBT_parameters/TBT_151_200.json',\n",
    "         './TBT_parameters/TBT_201_250.json',\n",
    "         './TBT_parameters/TBT_251_300.json',\n",
    "         './TBT_parameters/TBT_301_350.json',\n",
    "         './TBT_parameters/TBT_351_400.json',\n",
    "         './TBT_parameters/TBT_401_450.json',\n",
    "         './TBT_parameters/TBT_451_500.json',\n",
    "         './TBT_parameters/TBT_501_550.json',\n",
    "         './TBT_parameters/TBT_551_600.json',\n",
    "         './TBT_parameters/TBT_601_650.json',\n",
    "        ]\n",
    "\n",
    "btc_files = ['./BTC_parameters/botometer_cohort_1.json',\n",
    "         './BTC_parameters/botometer_cohort_2.json',\n",
    "         './BTC_parameters/botometer_cohort_3.json',\n",
    "         './BTC_parameters/botometer_cohort_4.json',\n",
    "         './BTC_parameters/botometer_cohort_5.json',\n",
    "         './BTC_parameters/botometer_cohort_6.json',\n",
    "         './BTC_parameters/botometer_cohort_7.json',\n",
    "         './BTC_parameters/botometer_cohort_8.json']\n",
    "\n",
    "bts_files = ['./BTS_parameters/botometer_cohort_1.json',\n",
    "         './BTS_parameters/botometer_cohort_2.json',\n",
    "         './BTS_parameters/botometer_cohort_3.json',\n",
    "         './BTS_parameters/botometer_cohort_4.json',\n",
    "         './BTS_parameters/botometer_cohort_5.json',\n",
    "         './BTS_parameters/botometer_cohort_6.json',\n",
    "         './BTS_parameters/botometer_cohort_7.json',\n",
    "         './BTS_parameters/botometer_cohort_8.json',\n",
    "         './BTS_parameters/botometer_cohort_9.json',\n",
    "         './BTS_parameters/botometer_cohort_10.json',\n",
    "         './BTS_parameters/botometer_cohort_11.json',\n",
    "         './BTS_parameters/botometer_cohort_12.json',\n",
    "         './BTS_parameters/botometer_cohort_13.json',\n",
    "         './BTS_parameters/botometer_cohort_14.json',\n",
    "         './BTS_parameters/botometer_cohort_15.json',\n",
    "         './BTS_parameters/botometer_cohort_16.json',\n",
    "         './BTS_parameters/botometer_cohort_17.json',\n",
    "         './BTS_parameters/botometer_cohort_18.json',\n",
    "         './BTS_parameters/botometer_cohort_19.json']\n",
    "\n",
    "for file in files:\n",
    "\n",
    "    f = open(file)\n",
    "    if file in bot_files:\n",
    "        label = \"#bot\"\n",
    "    if file in tbt_files:\n",
    "        label = \"#tbt\"\n",
    "    if file in btc_files:\n",
    "        label = \"#btc\"\n",
    "    if file in bts_files:\n",
    "        label = \"#bts\"\n",
    "    \n",
    "    arr = json.load(f)\n",
    "\n",
    "    for elem in arr['result']:\n",
    "\n",
    "        print(elem)\n",
    "        if elem['score'] > 0.7:\n",
    "            clean_elem = {}\n",
    "\n",
    "            clean_elem['user_screen_name'] = elem['user']['screen_name']\n",
    "            clean_elem['lang'] = elem['user']['lang']\n",
    "            clean_elem['hashtag'] = label\n",
    "            clean_elem['user_id'] = elem['user']['id_str']\n",
    "            clean_elem['score'] = elem['score']\n",
    "            clean_elem['astroturf'] = elem['categories']['astroturf']\n",
    "            clean_elem['fake_follower'] = elem['categories']['fake_follower']\n",
    "            clean_elem['financial'] = elem['categories']['financial']\n",
    "            clean_elem['other'] = elem['categories']['other']\n",
    "            clean_elem['overall'] = elem['categories']['overall']\n",
    "            clean_elem['self_declared'] = elem['categories']['self_declared']\n",
    "            clean_elem['spammer'] = elem['categories']['spammer']\n",
    "            clean_elem['most_recent_post_time'] = elem['analysis']['timeOfMostRecenPost']? elem['analysis']['timeOfMostRecenPost'] else 'Thu Jan 01 00:00:00 +0000 1970' #Normalize\n",
    "            clean_elem['recent_tweets_per_week'] = elem['analysis']['recentTweetsPerWeek'] #Normalize\n",
    "            clean_elem['number_of_tweets'] = elem['analysis']['numberOfTweets'] #Normalize\n",
    "            clean_elem['following'] = elem['analysis']['numberOfFollowees'] #Normalize\n",
    "            clean_elem['followers'] = elem['analysis']['numberOfFollowers'] #Normalize\n",
    "            clean_elem['numberOfLikes'] = elem['analysis']['numberOfLikes'] #Normalize\n",
    "            \n",
    "            clean_arr.append(clean_elem)\n",
    "\n",
    "    f.close()\n",
    "\n",
    "df = pd.DataFrame(clean_arr)\n",
    "\n",
    "df.to_csv('testdata.csv',index=False)\n",
    "\n",
    "print(df)"
   ]
  },
  {
   "cell_type": "code",
   "execution_count": null,
   "metadata": {},
   "outputs": [],
   "source": []
  },
  {
   "cell_type": "code",
   "execution_count": null,
   "metadata": {},
   "outputs": [],
   "source": []
  }
 ],
 "metadata": {
  "kernelspec": {
   "display_name": "Python 3 (ipykernel)",
   "language": "python",
   "name": "python3"
  },
  "language_info": {
   "codemirror_mode": {
    "name": "ipython",
    "version": 3
   },
   "file_extension": ".py",
   "mimetype": "text/x-python",
   "name": "python",
   "nbconvert_exporter": "python",
   "pygments_lexer": "ipython3",
   "version": "3.8.12"
  }
 },
 "nbformat": 4,
 "nbformat_minor": 2
}
